{
 "cells": [
  {
   "cell_type": "code",
   "execution_count": 2,
   "id": "3825b45c",
   "metadata": {},
   "outputs": [],
   "source": [
    "import pandas as pd\n",
    "import numpy as np"
   ]
  },
  {
   "cell_type": "markdown",
   "id": "3d51f2c3",
   "metadata": {},
   "source": [
    "Questão 1:\n"
   ]
  },
  {
   "cell_type": "markdown",
   "id": "7c8be66a",
   "metadata": {},
   "source": [
    "Explicação, importei tudo dos links, usei função ssl para acessar os links, o encoding para acessar os dados com o iso correto (latino + caracteres turcos), concatenei, nao consegui deixar por campus e ano, mas ta em ordem decrescente (2019-2017) e salvei o novo dataframe em csv."
   ]
  },
  {
   "cell_type": "code",
   "execution_count": 35,
   "id": "cab09883",
   "metadata": {},
   "outputs": [],
   "source": [
    "import ssl\n",
    "\n",
    "ssl._create_default_https_context = ssl._create_unverified_context"
   ]
  },
  {
   "cell_type": "code",
   "execution_count": 123,
   "id": "6c1ac03a",
   "metadata": {},
   "outputs": [
    {
     "name": "stdout",
     "output_type": "stream",
     "text": [
      "                                           INSTITUIÇÃO  \\\n",
      "0    Instituto Federal de Educação Ciência e Tecnol...   \n",
      "1    Instituto Federal de Educação Ciência e Tecnol...   \n",
      "2    Instituto Federal de Educação Ciência e Tecnol...   \n",
      "3    Instituto Federal de Educação Ciência e Tecnol...   \n",
      "4    Instituto Federal de Educação Ciência e Tecnol...   \n",
      "..                                                 ...   \n",
      "126                                                NaN   \n",
      "127                                                NaN   \n",
      "128                                                NaN   \n",
      "129                                                NaN   \n",
      "130                                                NaN   \n",
      "\n",
      "                                                 GRUPO  \\\n",
      "0    Rede de Inovação Tecnológica de Sistemas Agrop...   \n",
      "1                          Desenvolvimento Sustentável   \n",
      "2    Estudo de olerícolas orgânicas no Norte de Min...   \n",
      "3    Grupo de Estudo e Pesquisas em Inovação do Val...   \n",
      "4         Núcleo de estudo e pesquisa em aves e suínos   \n",
      "..                                                 ...   \n",
      "126                                                NaN   \n",
      "127                                                NaN   \n",
      "128                                                NaN   \n",
      "129                                                NaN   \n",
      "130                                                NaN   \n",
      "\n",
      "                                 LÍDER                  ÁREA PREDOMINANTE  \\\n",
      "0       Juliana Maria Nogueira Pereira                          Agronomia   \n",
      "1       Juliana Maria Nogueira Pereira  Ciência e Tecnologia de Alimentos   \n",
      "2    Nelson Licínio Campos de Oliveira                          Agronomia   \n",
      "3      João Leandro Cássio de Oliveira                      Administração   \n",
      "4         Wagner Azis Garcia de Araújo                          Zootecnia   \n",
      "..                                 ...                                ...   \n",
      "126                                NaN                                NaN   \n",
      "127                                NaN                                NaN   \n",
      "128                                NaN                                NaN   \n",
      "129                                NaN                                NaN   \n",
      "130                                NaN                                NaN   \n",
      "\n",
      "    Unnamed: 4 Unnamed: 5  Unnamed: 0 Unnamed: 1 Consulta Parametrizada  \\\n",
      "0          NaN        NaN         NaN        NaN                    NaN   \n",
      "1          NaN        NaN         NaN        NaN                    NaN   \n",
      "2          NaN        NaN         NaN        NaN                    NaN   \n",
      "3          NaN        NaN         NaN        NaN                    NaN   \n",
      "4          NaN        NaN         NaN        NaN                    NaN   \n",
      "..         ...        ...         ...        ...                    ...   \n",
      "126        NaN        NaN         NaN        NaN                    NaN   \n",
      "127        NaN        NaN         NaN        NaN                    NaN   \n",
      "128        NaN        NaN         NaN        NaN                    NaN   \n",
      "129        NaN        NaN         NaN        NaN                    NaN   \n",
      "130        NaN        NaN         NaN        NaN                    NaN   \n",
      "\n",
      "    Unnamed: 3  ... Projetos de Pesquisa Cadastrados em 2017 Coordenador  \\\n",
      "0          NaN  ...                                      NaN         NaN   \n",
      "1          NaN  ...                                      NaN         NaN   \n",
      "2          NaN  ...                                      NaN         NaN   \n",
      "3          NaN  ...                                      NaN         NaN   \n",
      "4          NaN  ...                                      NaN         NaN   \n",
      "..         ...  ...                                      ...         ...   \n",
      "126        NaN  ...                                      NaN         NaN   \n",
      "127        NaN  ...                                      NaN         NaN   \n",
      "128        NaN  ...                                      NaN         NaN   \n",
      "129        NaN  ...                                      NaN         NaN   \n",
      "130        NaN  ...                                      NaN         NaN   \n",
      "\n",
      "    Período de Execução TÍTULO NOME COORDENADOR   CAMPUS Tipo de Evento  \\\n",
      "0                   NaN    NaN              NaN      NaN            NaN   \n",
      "1                   NaN    NaN              NaN      NaN            NaN   \n",
      "2                   NaN    NaN              NaN      NaN            NaN   \n",
      "3                   NaN    NaN              NaN      NaN            NaN   \n",
      "4                   NaN    NaN              NaN      NaN            NaN   \n",
      "..                  ...    ...              ...      ...            ...   \n",
      "126                 NaN    NaN              NaN      NaN            NaN   \n",
      "127                 NaN    NaN              NaN  Janaúba            NaN   \n",
      "128                 NaN    NaN              NaN      NaN            NaN   \n",
      "129                 NaN    NaN              NaN  Janaúba            NaN   \n",
      "130                 NaN    NaN              NaN  Salinas            NaN   \n",
      "\n",
      "    Descrição Sumária do Evento   EVENTO/ SERVIÇO  \\\n",
      "0                           NaN               NaN   \n",
      "1                           NaN               NaN   \n",
      "2                           NaN               NaN   \n",
      "3                           NaN               NaN   \n",
      "4                           NaN               NaN   \n",
      "..                          ...               ...   \n",
      "126                         NaN               NaN   \n",
      "127                         NaN               NaN   \n",
      "128                         NaN               NaN   \n",
      "129                         NaN               NaN   \n",
      "130                         NaN               NaN   \n",
      "\n",
      "                                       EVENTO/ SERVIÇO  \n",
      "0                                                  NaN  \n",
      "1                                                  NaN  \n",
      "2                                                  NaN  \n",
      "3                                                  NaN  \n",
      "4                                                  NaN  \n",
      "..                                                 ...  \n",
      "126                                            MOSTRAS  \n",
      "127  1. I Mostra de Ciência e Tecnologia do IFNMG -...  \n",
      "128                                           WORKSHOP  \n",
      "129  1. O workshop em Recreação Hospitalar teve por...  \n",
      "130  1. Apresentação do projeto do controle de Aede...  \n",
      "\n",
      "[2971 rows x 29 columns]\n"
     ]
    }
   ],
   "source": [
    "gp19=pd.read_csv('https://documento.ifnmg.edu.br/action.php?kt_path_info=ktcore.actions.document.view&fDocumentId=36818', encoding='ISO-8859-9')\n",
    "gp18=pd.read_csv('https://documento.ifnmg.edu.br/action.php?kt_path_info=ktcore.actions.document.view&fDocumentId=33102', encoding='ISO-8859-9')\n",
    "gp17=pd.read_csv('https://documento.ifnmg.edu.br/action.php?kt_path_info=ktcore.actions.document.view&fDocumentId=26907', encoding='ISO-8859-9')\n",
    "congp = pd.concat([gp19, gp18, gp17])\n",
    "pes19=pd.read_csv('https://documento.ifnmg.edu.br/action.php?kt_path_info=ktcore.actions.document.view&fDocumentId=36821',encoding='ISO-8859-9')\n",
    "pes18 = pd.read_csv('https://documento.ifnmg.edu.br/action.php?kt_path_info=ktcore.actions.document.view&fDocumentId=33103', encoding='ISO-8859-9')\n",
    "pes17 = pd.read_csv('https://documento.ifnmg.edu.br/action.php?kt_path_info=ktcore.actions.document.view&fDocumentId=26909', encoding='ISO-8859-9')\n",
    "conpe = pd.concat([pes19, pes18, pes17])\n",
    "ppr19 = pd.read_csv('https://documento.ifnmg.edu.br/action.php?kt_path_info=ktcore.actions.document.view&fDocumentId=36822', encoding='ISO-8859-9')\n",
    "ppr18 = pd.read_csv('https://documento.ifnmg.edu.br/action.php?kt_path_info=ktcore.actions.document.view&fDocumentId=33101',encoding='ISO-8859-9')\n",
    "ppr17 = pd.read_csv('https://documento.ifnmg.edu.br/action.php?kt_path_info=ktcore.actions.document.view&fDocumentId=26911',encoding='ISO-8859-9')\n",
    "conpr = pd.concat([ppr19,ppr18,ppr17])\n",
    "pee19 = pd.read_csv('https://documento.ifnmg.edu.br/action.php?kt_path_info=ktcore.actions.document.view&fDocumentId=36482',encoding='ISO-8859-9')\n",
    "pee18 = pd.read_csv('https://documento.ifnmg.edu.br/action.php?kt_path_info=ktcore.actions.document.view&fDocumentId=33131',encoding='ISO-8859-9')\n",
    "pee17 = pd.read_csv('https://documento.ifnmg.edu.br/action.php?kt_path_info=ktcore.actions.document.view&fDocumentId=33133',encoding='ISO-8859-9')\n",
    "conpee = pd.concat([pee19,pee18,pee17])\n",
    "eps19 = pd.read_csv('https://documento.ifnmg.edu.br/action.php?kt_path_info=ktcore.actions.document.view&fDocumentId=36480',encoding='ISO-8859-9')\n",
    "eps18 = pd.read_csv('https://documento.ifnmg.edu.br/action.php?kt_path_info=ktcore.actions.document.view&fDocumentId=33130',encoding='ISO-8859-9')\n",
    "eps17 = pd.read_csv('https://documento.ifnmg.edu.br/action.php?kt_path_info=ktcore.actions.document.view&fDocumentId=33132',encoding='ISO-8859-9')\n",
    "conep = pd.concat([eps19,eps18,eps17])\n",
    "ultra = pd.concat([congp,conpe,conpr,conpee,conep])\n",
    "ultra.to_csv('novodataframe')\n",
    "print(ultra)\n"
   ]
  },
  {
   "cell_type": "markdown",
   "id": "737a4793",
   "metadata": {},
   "source": [
    "Questão 2"
   ]
  },
  {
   "cell_type": "markdown",
   "id": "e8754c70",
   "metadata": {},
   "source": [
    "Explicação: irei concatenar os dados dos 3 anos mais recente em um dataframe, transformar em json, json é uma forma de trocar de dados entre sistemas diferentes, json é mais versatil, não precisa de encoding e é mais utilizado."
   ]
  },
  {
   "cell_type": "code",
   "execution_count": null,
   "id": "c4842f65",
   "metadata": {},
   "outputs": [],
   "source": [
    "import pandas as pd\n",
    "import numpy as np"
   ]
  },
  {
   "cell_type": "code",
   "execution_count": 138,
   "id": "3c6619e1",
   "metadata": {
    "scrolled": true
   },
   "outputs": [
    {
     "name": "stdout",
     "output_type": "stream",
     "text": [
      "               ANO;ESTADO;CÓDIGO IBGE;Município;Vendas\n",
      "0            2017;Acre ;1200203;CRUZEIRO DO SUL;194000\n",
      "1                      2017;Acre ;1200302;FEIJO;110000\n",
      "2                 2017;Acre ;1200401;RIO BRANCO;235000\n",
      "3           2017;Acre ;1200450;SENADOR GUIOMARD;200000\n",
      "4               2017;Alagoas ;2701506;CAMPO GRANDE;395\n",
      "..                                                 ...\n",
      "614           2015;Tocantins ;1702109;ARAGUAINA;542000\n",
      "615         2015;Tocantins ;1703008;BABACULANDIA;50000\n",
      "616              2015;Tocantins ;1709500;GURUPI;850862\n",
      "617              2015;Tocantins ;1721000;PALMAS;360763\n",
      "618  2015;Tocantins ;1716109;PARAISO DO TOCANTINS;2...\n",
      "\n",
      "[1683 rows x 1 columns]\n"
     ]
    }
   ],
   "source": [
    "d17 = pd.read_csv('http://www.anp.gov.br/arquivos/dadosabertos/vc/vendas-gasolinaaviacao-municipio-2017.csv',encoding='ISO-8859-9')\n",
    "d16 = pd.read_csv('http://www.anp.gov.br/arquivos/dadosabertos/vc/vendas-gasolinaaviacao-municipio-2016.csv', encoding='ISO-8859-9')\n",
    "d15 = pd.read_csv('http://www.anp.gov.br/arquivos/dadosabertos/vc/vendas-gasolinaaviacao-municipio-2015.csv', encoding='ISO-8859-9')\n",
    "#concatenando \n",
    "dados = pd.concat([d17,d16,d15])\n",
    "print(dados)\n",
    "\n"
   ]
  },
  {
   "cell_type": "code",
   "execution_count": 137,
   "id": "06e10097",
   "metadata": {},
   "outputs": [],
   "source": [
    "dados.to_json('dataframeGasolAviao', orient = 'split')\n"
   ]
  },
  {
   "cell_type": "code",
   "execution_count": null,
   "id": "48baa0eb",
   "metadata": {},
   "outputs": [],
   "source": []
  }
 ],
 "metadata": {
  "kernelspec": {
   "display_name": "Python 3 (ipykernel)",
   "language": "python",
   "name": "python3"
  },
  "language_info": {
   "codemirror_mode": {
    "name": "ipython",
    "version": 3
   },
   "file_extension": ".py",
   "mimetype": "text/x-python",
   "name": "python",
   "nbconvert_exporter": "python",
   "pygments_lexer": "ipython3",
   "version": "3.8.8"
  }
 },
 "nbformat": 4,
 "nbformat_minor": 5
}
