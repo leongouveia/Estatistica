{
 "cells": [
  {
   "cell_type": "markdown",
   "id": "512218a3",
   "metadata": {},
   "source": [
    "# Respostas"
   ]
  },
  {
   "cell_type": "markdown",
   "id": "05303bc6",
   "metadata": {},
   "source": [
    "     Questão 1:"
   ]
  },
  {
   "cell_type": "code",
   "execution_count": null,
   "id": "95477ea9",
   "metadata": {},
   "outputs": [],
   "source": [
    "import pandas as pd \n",
    "import numpy as np"
   ]
  },
  {
   "cell_type": "code",
   "execution_count": 5,
   "id": "b3026b06",
   "metadata": {},
   "outputs": [],
   "source": [
    "Mercearia = pd.DataFrame({\"loja\":[\"A\", \"A\", \"A\"],\n",
    "\"dia\": [\"sex\", \"sab\", \"dom\"],\n",
    "\"valor\": [7500, 9500, 8200]})\n",
    "Farmácia = pd.DataFrame({\"loja\":[\"B\", \"B\", \"B\"],\n",
    "\"dia\": [\"sex\", \"sab\", \"dom\"],\n",
    "\"valor\": [5100, 8250, 9900]})\n",
    "Restaurante = pd.DataFrame({\"loja\":[\"C\", \"C\"],\n",
    "\"dia\": [\"sab\", \"dom\"],\n",
    "\"valor\": [7500, 11800]})"
   ]
  },
  {
   "cell_type": "code",
   "execution_count": 10,
   "id": "bdb061f9",
   "metadata": {},
   "outputs": [
    {
     "data": {
      "text/html": [
       "<div>\n",
       "<style scoped>\n",
       "    .dataframe tbody tr th:only-of-type {\n",
       "        vertical-align: middle;\n",
       "    }\n",
       "\n",
       "    .dataframe tbody tr th {\n",
       "        vertical-align: top;\n",
       "    }\n",
       "\n",
       "    .dataframe thead th {\n",
       "        text-align: right;\n",
       "    }\n",
       "</style>\n",
       "<table border=\"1\" class=\"dataframe\">\n",
       "  <thead>\n",
       "    <tr style=\"text-align: right;\">\n",
       "      <th></th>\n",
       "      <th>loja</th>\n",
       "      <th>dia</th>\n",
       "      <th>valor</th>\n",
       "      <th>loja</th>\n",
       "      <th>dia</th>\n",
       "      <th>valor</th>\n",
       "      <th>loja</th>\n",
       "      <th>dia</th>\n",
       "      <th>valor</th>\n",
       "    </tr>\n",
       "  </thead>\n",
       "  <tbody>\n",
       "    <tr>\n",
       "      <th>0</th>\n",
       "      <td>A</td>\n",
       "      <td>sex</td>\n",
       "      <td>7500</td>\n",
       "      <td>B</td>\n",
       "      <td>sex</td>\n",
       "      <td>5100</td>\n",
       "      <td>C</td>\n",
       "      <td>sab</td>\n",
       "      <td>7500.0</td>\n",
       "    </tr>\n",
       "    <tr>\n",
       "      <th>1</th>\n",
       "      <td>A</td>\n",
       "      <td>sab</td>\n",
       "      <td>9500</td>\n",
       "      <td>B</td>\n",
       "      <td>sab</td>\n",
       "      <td>8250</td>\n",
       "      <td>C</td>\n",
       "      <td>dom</td>\n",
       "      <td>11800.0</td>\n",
       "    </tr>\n",
       "    <tr>\n",
       "      <th>2</th>\n",
       "      <td>A</td>\n",
       "      <td>dom</td>\n",
       "      <td>8200</td>\n",
       "      <td>B</td>\n",
       "      <td>dom</td>\n",
       "      <td>9900</td>\n",
       "      <td>NaN</td>\n",
       "      <td>NaN</td>\n",
       "      <td>NaN</td>\n",
       "    </tr>\n",
       "  </tbody>\n",
       "</table>\n",
       "</div>"
      ],
      "text/plain": [
       "  loja  dia  valor loja  dia  valor loja  dia    valor\n",
       "0    A  sex   7500    B  sex   5100    C  sab   7500.0\n",
       "1    A  sab   9500    B  sab   8250    C  dom  11800.0\n",
       "2    A  dom   8200    B  dom   9900  NaN  NaN      NaN"
      ]
     },
     "execution_count": 10,
     "metadata": {},
     "output_type": "execute_result"
    }
   ],
   "source": [
    "#Sentido linha \n",
    "pd.concat([Mercearia, Farmácia, Restaurante],axis =1 )"
   ]
  },
  {
   "cell_type": "code",
   "execution_count": 11,
   "id": "43e68366",
   "metadata": {},
   "outputs": [
    {
     "data": {
      "text/html": [
       "<div>\n",
       "<style scoped>\n",
       "    .dataframe tbody tr th:only-of-type {\n",
       "        vertical-align: middle;\n",
       "    }\n",
       "\n",
       "    .dataframe tbody tr th {\n",
       "        vertical-align: top;\n",
       "    }\n",
       "\n",
       "    .dataframe thead th {\n",
       "        text-align: right;\n",
       "    }\n",
       "</style>\n",
       "<table border=\"1\" class=\"dataframe\">\n",
       "  <thead>\n",
       "    <tr style=\"text-align: right;\">\n",
       "      <th></th>\n",
       "      <th>loja</th>\n",
       "      <th>dia</th>\n",
       "      <th>valor</th>\n",
       "    </tr>\n",
       "  </thead>\n",
       "  <tbody>\n",
       "    <tr>\n",
       "      <th>0</th>\n",
       "      <td>A</td>\n",
       "      <td>sex</td>\n",
       "      <td>7500</td>\n",
       "    </tr>\n",
       "    <tr>\n",
       "      <th>1</th>\n",
       "      <td>A</td>\n",
       "      <td>sab</td>\n",
       "      <td>9500</td>\n",
       "    </tr>\n",
       "    <tr>\n",
       "      <th>2</th>\n",
       "      <td>A</td>\n",
       "      <td>dom</td>\n",
       "      <td>8200</td>\n",
       "    </tr>\n",
       "    <tr>\n",
       "      <th>0</th>\n",
       "      <td>B</td>\n",
       "      <td>sex</td>\n",
       "      <td>5100</td>\n",
       "    </tr>\n",
       "    <tr>\n",
       "      <th>1</th>\n",
       "      <td>B</td>\n",
       "      <td>sab</td>\n",
       "      <td>8250</td>\n",
       "    </tr>\n",
       "    <tr>\n",
       "      <th>2</th>\n",
       "      <td>B</td>\n",
       "      <td>dom</td>\n",
       "      <td>9900</td>\n",
       "    </tr>\n",
       "    <tr>\n",
       "      <th>0</th>\n",
       "      <td>C</td>\n",
       "      <td>sab</td>\n",
       "      <td>7500</td>\n",
       "    </tr>\n",
       "    <tr>\n",
       "      <th>1</th>\n",
       "      <td>C</td>\n",
       "      <td>dom</td>\n",
       "      <td>11800</td>\n",
       "    </tr>\n",
       "  </tbody>\n",
       "</table>\n",
       "</div>"
      ],
      "text/plain": [
       "  loja  dia  valor\n",
       "0    A  sex   7500\n",
       "1    A  sab   9500\n",
       "2    A  dom   8200\n",
       "0    B  sex   5100\n",
       "1    B  sab   8250\n",
       "2    B  dom   9900\n",
       "0    C  sab   7500\n",
       "1    C  dom  11800"
      ]
     },
     "execution_count": 11,
     "metadata": {},
     "output_type": "execute_result"
    }
   ],
   "source": [
    "#Sentido Coluna\n",
    "pd.concat([Mercearia, Farmácia, Restaurante])"
   ]
  },
  {
   "cell_type": "markdown",
   "id": "bbfdf35e",
   "metadata": {},
   "source": [
    "R: A primeira imprime a saida em linha, a segunda imprime a saida em coluna,a ocorrencia de NaN no primeiro se da porque nao existe o 3 valor da 3 linha no dataframe de origem, ai exibe os valores NaN para deixar as linhas em formato certo, na segunda nao tem pois so imprime os valores dados."
   ]
  },
  {
   "cell_type": "markdown",
   "id": "7e5d2f3c",
   "metadata": {},
   "source": [
    "    Questão 2:"
   ]
  },
  {
   "cell_type": "code",
   "execution_count": 12,
   "id": "81bb836b",
   "metadata": {},
   "outputs": [],
   "source": [
    "SQL = pd.DataFrame({\"email\":[\"rakesh@xyz.com\",\n",
    "\"ecg@acmecorpus.com\"]})\n",
    "PYTHON = pd.DataFrame({\"email\":[\"ana@xyz.com\",\n",
    "\"jonas@acmecorpus.com\",\n",
    "\"rakesh@xyz.com\"]})"
   ]
  },
  {
   "cell_type": "code",
   "execution_count": 24,
   "id": "684befda",
   "metadata": {},
   "outputs": [
    {
     "name": "stdout",
     "output_type": "stream",
     "text": [
      "Alunos distintos:\n",
      "                  email\n",
      "0        rakesh@xyz.com\n",
      "1    ecg@acmecorpus.com\n",
      "2           ana@xyz.com\n",
      "3  jonas@acmecorpus.com\n"
     ]
    }
   ],
   "source": [
    "#A\n",
    "alunos = pd.concat([SQL, PYTHON], ignore_index=True)\n",
    "alunos = alunos.drop_duplicates()\n",
    "print(\"Alunos distintos:\")\n",
    "print(alunos)"
   ]
  },
  {
   "cell_type": "code",
   "execution_count": 25,
   "id": "05c98a98",
   "metadata": {},
   "outputs": [
    {
     "name": "stdout",
     "output_type": "stream",
     "text": [
      "O(s) aluno(s) que fizeram ambos os cursos:\n",
      "            email\n",
      "0  rakesh@xyz.com\n"
     ]
    }
   ],
   "source": [
    "#B\n",
    "print(\"O(s) aluno(s) que fizeram ambos os cursos:\")\n",
    "ambos = pd.merge(SQL,PYTHON)\n",
    "print(ambos)"
   ]
  },
  {
   "cell_type": "code",
   "execution_count": 26,
   "id": "56142645",
   "metadata": {},
   "outputs": [
    {
     "name": "stdout",
     "output_type": "stream",
     "text": [
      "Alunos que fizeram só o curso de SQL:\n",
      "                email\n",
      "1  ecg@acmecorpus.com\n",
      "Alunos que fizeram só o curso de Python:\n",
      "                  email\n",
      "0           ana@xyz.com\n",
      "1  jonas@acmecorpus.com\n"
     ]
    }
   ],
   "source": [
    "#C\n",
    "sosql = SQL[SQL.email.isin(PYTHON.email)==False]\n",
    "sopython = PYTHON[PYTHON.email.isin(SQL.email)==False]\n",
    "print('Alunos que fizeram só o curso de SQL:')\n",
    "print(sosql)\n",
    "print('Alunos que fizeram só o curso de Python:')\n",
    "print(sopython)"
   ]
  },
  {
   "cell_type": "markdown",
   "id": "f4ce3ea1",
   "metadata": {},
   "source": [
    "    Questão 3"
   ]
  },
  {
   "cell_type": "code",
   "execution_count": 35,
   "id": "df7bf95b",
   "metadata": {},
   "outputs": [],
   "source": [
    "dic_emp = {\"id\":[\"D1\",\"D2\",\"D3\",\"D4\"],\n",
    "\"nomDepto\": [\"Compras\",\"RH\",\"TI\",\"Vendas\"],\n",
    "\"local\":[\"SP\",\"RJ\",\"RJ\",\"SP\"]\n",
    "}\n",
    "dic_func = {\"num\":[3199,3269,3555,3788,3844],\n",
    "\"nome\": [\"Ana\",\"David\",\"José\",\"Marina\",\"Luís\"],\n",
    "\"salario\":[1600,2975,1500,5000,3000],\n",
    "\"idDepto\": [\"D2\",\"D3\",None,\"D2\",\"D4\"]\n",
    "}\n",
    "empresa = pd.DataFrame(dic_emp)\n",
    "funcionarios = pd.DataFrame(dic_func)"
   ]
  },
  {
   "cell_type": "code",
   "execution_count": 41,
   "id": "1060e1fe",
   "metadata": {},
   "outputs": [
    {
     "name": "stdout",
     "output_type": "stream",
     "text": [
      "Dados da empresa:\n",
      "    num    nome  salario idDepto  id nomDepto local\n",
      "0  3199     Ana     1600      D2  D2       RH    RJ\n",
      "1  3788  Marina     5000      D2  D2       RH    RJ\n",
      "2  3269   David     2975      D3  D3       TI    RJ\n",
      "3  3844    Luís     3000      D4  D4   Vendas    SP\n"
     ]
    }
   ],
   "source": [
    "empdados = pd.merge(funcionarios, empresa, left_on='idDepto', right_on='id')\n",
    "print('Dados da empresa:')\n",
    "print(empdados)"
   ]
  }
 ],
 "metadata": {
  "kernelspec": {
   "display_name": "Python 3 (ipykernel)",
   "language": "python",
   "name": "python3"
  },
  "language_info": {
   "codemirror_mode": {
    "name": "ipython",
    "version": 3
   },
   "file_extension": ".py",
   "mimetype": "text/x-python",
   "name": "python",
   "nbconvert_exporter": "python",
   "pygments_lexer": "ipython3",
   "version": "3.8.8"
  }
 },
 "nbformat": 4,
 "nbformat_minor": 5
}
