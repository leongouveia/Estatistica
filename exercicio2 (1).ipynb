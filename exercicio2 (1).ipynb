{
 "cells": [
  {
   "cell_type": "markdown",
   "id": "e5a6e4f3",
   "metadata": {},
   "source": [
    "# Respostas"
   ]
  },
  {
   "cell_type": "markdown",
   "id": "a7511316",
   "metadata": {},
   "source": [
    "    Questão 1: Como importar a biblioteca numpy e verificar a versão utilizada?"
   ]
  },
  {
   "cell_type": "markdown",
   "id": "1d801585",
   "metadata": {},
   "source": [
    "A biblioteca numpy é importada da seguinte maneira e ainda sua versão é :"
   ]
  },
  {
   "cell_type": "code",
   "execution_count": 3,
   "id": "b895c627",
   "metadata": {},
   "outputs": [
    {
     "data": {
      "text/plain": [
       "'1.20.1'"
      ]
     },
     "execution_count": 3,
     "metadata": {},
     "output_type": "execute_result"
    }
   ],
   "source": [
    "import numpy as np #faz a importação\n",
    "import numpy ; numpy.version.version #verifica a versão\n"
   ]
  },
  {
   "cell_type": "markdown",
   "id": "379d23d4",
   "metadata": {},
   "source": [
    "    Questão 2: Explique, com suas palavras o conceito de vetorização e broadcasting que numpy implementa."
   ]
  },
  {
   "cell_type": "markdown",
   "id": "1a806259",
   "metadata": {},
   "source": [
    "Vetorização é utilizada para aplicar uma função a uma array inteira, ao contrario do que map faz. Broadcasting permite a aplicação aritmetica sobre circustancias diferentes, exemplo: (4,4) e (1,4) "
   ]
  },
  {
   "cell_type": "markdown",
   "id": "b37f8d13",
   "metadata": {},
   "source": [
    "    Questão 3: Liste as diferenças entre uma lista, um dicionario, um array numpy, dando exemplos de aplicação de em cada tipo seria mais interessante."
   ]
  },
  {
   "cell_type": "markdown",
   "id": "1344a38c",
   "metadata": {},
   "source": [
    "Diferenças:\n",
    "- Lista, Caso voce precise de uma coisa ordenada e indexada por posição, pode haver elementos de tipo diferente, coisa que o array não faz, recomenda-se a utilização em casos pequenos, que nao use muito dados e tenha que ser utilizado diversos tipos de dados\n",
    "- Dicionario, Não é obrigado a ser ordenado e o acesso aos itens e é feito por chaves, é utilizado em diversos banco de dados.\n",
    "- Array Numpy, Tem o mesmo tipo de dados, é mais leve em termos de memoria, da para fazer a operações em todos os items de forma que nao será feito um por um, Utilizado em grandes conjuntos de dados, complexos, pois será feito com agilidade e eficiencia."
   ]
  },
  {
   "cell_type": "markdown",
   "id": "d7de4223",
   "metadata": {},
   "source": [
    "    Questão 4: Forme a matriz: [[1, 6, 11], [2, 7, 12], [3, 8, 13], [4, 9, 14], [5, 10, 15]] usando lista e array Numpy."
   ]
  },
  {
   "cell_type": "code",
   "execution_count": 39,
   "id": "29b6a7b7",
   "metadata": {},
   "outputs": [
    {
     "name": "stdout",
     "output_type": "stream",
     "text": [
      "Matriz Lista:\n",
      "[1, 6, 11]\n",
      "[2, 7, 12]\n",
      "[3, 8, 13]\n",
      "[4, 9, 14]\n",
      "[5, 10, 15]\n",
      "Matriz Array:\n"
     ]
    },
    {
     "data": {
      "text/plain": [
       "array([[ 1,  6, 11],\n",
       "       [ 2,  7, 12],\n",
       "       [ 3,  8, 13],\n",
       "       [ 4,  9, 14],\n",
       "       [ 5, 10, 15]])"
      ]
     },
     "execution_count": 39,
     "metadata": {},
     "output_type": "execute_result"
    }
   ],
   "source": [
    "#usando lista\n",
    "m = []\n",
    "f = 0\n",
    "z = 0\n",
    "print(\"Matriz Lista:\")\n",
    "for i in range(5):\n",
    "    lin = []\n",
    "    f += 1 \n",
    "    z = f\n",
    "    lin.append(f)\n",
    "    for j in range(2):\n",
    "        z += 5\n",
    "        lin.append(z)\n",
    "    print(lin)\n",
    "\n",
    "#usando array\n",
    "import numpy as np \n",
    "print('Matriz Array:')\n",
    "m = np.arange(1,16)\n",
    "m.reshape((5,3), order = \"F\")"
   ]
  },
  {
   "cell_type": "markdown",
   "id": "055f9220",
   "metadata": {},
   "source": [
    "    Questão 5:Usando numpy, crie: \n",
    "    (a) um vetor de 10 elementos entre 1 e 20:\n",
    "\n",
    "    (b) um vetor entre 1 e 20, com passo de 2:\n",
    "\n",
    "    (c) uma matriz 3x3 cujos elementos da diagonal sejam o vetor [1,2,3] e os demais sejam todos 0:"
   ]
  },
  {
   "cell_type": "code",
   "execution_count": 20,
   "id": "4a2fd3d1",
   "metadata": {},
   "outputs": [
    {
     "data": {
      "text/plain": [
       "array([14,  6, 18, 14,  8,  6, 12, 13,  6,  3])"
      ]
     },
     "execution_count": 20,
     "metadata": {},
     "output_type": "execute_result"
    }
   ],
   "source": [
    "#A\n",
    "np.random.randint(1, 20, 10)"
   ]
  },
  {
   "cell_type": "code",
   "execution_count": 16,
   "id": "9fa8db4f",
   "metadata": {},
   "outputs": [
    {
     "data": {
      "text/plain": [
       "array([ 1,  3,  5,  7,  9, 11, 13, 15, 17, 19])"
      ]
     },
     "execution_count": 16,
     "metadata": {},
     "output_type": "execute_result"
    }
   ],
   "source": [
    "#B\n",
    "np.arange(1, 20, 2)"
   ]
  },
  {
   "cell_type": "code",
   "execution_count": 17,
   "id": "e16ec239",
   "metadata": {},
   "outputs": [
    {
     "data": {
      "text/plain": [
       "array([[1, 0, 0],\n",
       "       [0, 2, 0],\n",
       "       [0, 0, 3]])"
      ]
     },
     "execution_count": 17,
     "metadata": {},
     "output_type": "execute_result"
    }
   ],
   "source": [
    "#C\n",
    "np.diag([1,2,3])"
   ]
  }
 ],
 "metadata": {
  "kernelspec": {
   "display_name": "Python 3",
   "language": "python",
   "name": "python3"
  },
  "language_info": {
   "codemirror_mode": {
    "name": "ipython",
    "version": 3
   },
   "file_extension": ".py",
   "mimetype": "text/x-python",
   "name": "python",
   "nbconvert_exporter": "python",
   "pygments_lexer": "ipython3",
   "version": "3.8.8"
  }
 },
 "nbformat": 4,
 "nbformat_minor": 5
}
