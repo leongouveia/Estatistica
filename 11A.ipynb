{
 "cells": [
  {
   "cell_type": "code",
   "execution_count": 205,
   "id": "76a1a231",
   "metadata": {},
   "outputs": [],
   "source": [
    "import pandas as pd\n",
    "import numpy as np\n",
    "import matplotlib.pyplot as plt\n",
    "import math"
   ]
  },
  {
   "cell_type": "markdown",
   "id": "440d2d9f",
   "metadata": {},
   "source": [
    "Questão 1"
   ]
  },
  {
   "cell_type": "code",
   "execution_count": 206,
   "id": "ff9c0928",
   "metadata": {},
   "outputs": [],
   "source": [
    "dd = pd.DataFrame ({'Erros': [0,1,2,3,4],\n",
    "                    'Frequencia': [25,20,3,1,1]})"
   ]
  },
  {
   "cell_type": "code",
   "execution_count": 207,
   "id": "2721c16e",
   "metadata": {},
   "outputs": [],
   "source": [
    "#A\n",
    "err = dd['Erros']\n",
    "fre = dd['Frequencia']"
   ]
  },
  {
   "cell_type": "code",
   "execution_count": 208,
   "id": "6c805936",
   "metadata": {},
   "outputs": [],
   "source": [
    "media = ((err[0])*(fre[0]) + (err[1])*(fre[1]) + (err[2])*(fre[2]) + (err[3])*(fre[3]) + err[4]*(fre[4]))/50"
   ]
  },
  {
   "cell_type": "code",
   "execution_count": 209,
   "id": "60b6931d",
   "metadata": {},
   "outputs": [
    {
     "name": "stdout",
     "output_type": "stream",
     "text": [
      "A media é 0.66\n"
     ]
    }
   ],
   "source": [
    "print(\"A media é\", media)"
   ]
  },
  {
   "cell_type": "code",
   "execution_count": 210,
   "id": "9e942bd9",
   "metadata": {},
   "outputs": [
    {
     "name": "stdout",
     "output_type": "stream",
     "text": [
      "A mediana de erros é 2.0\n",
      "e a mediana de frequencia é 3.0\n"
     ]
    }
   ],
   "source": [
    "#B\n",
    "print(\"A mediana de erros é\",err.median())\n",
    "print(\"e a mediana de frequencia é\",fre.median())"
   ]
  },
  {
   "cell_type": "code",
   "execution_count": 211,
   "id": "01bda033",
   "metadata": {},
   "outputs": [
    {
     "data": {
      "text/plain": [
       "Erros          2.0\n",
       "Frequencia    10.0\n",
       "dtype: float64"
      ]
     },
     "execution_count": 211,
     "metadata": {},
     "output_type": "execute_result"
    }
   ],
   "source": [
    "dd.mean()"
   ]
  },
  {
   "cell_type": "code",
   "execution_count": 212,
   "id": "6fbba8d7",
   "metadata": {},
   "outputs": [],
   "source": [
    "#c\n",
    "desvio = 1/49*((err[0]-media)**2+(err[1]-media)**2+(err[2]-media)**2+(err[3]-media)**2+(err[4]-media)**2)\n",
    "des = math.sqrt(desvio) "
   ]
  },
  {
   "cell_type": "code",
   "execution_count": 213,
   "id": "fc6b4b62",
   "metadata": {},
   "outputs": [
    {
     "name": "stdout",
     "output_type": "stream",
     "text": [
      "O desvio padrão é 0.62 erros\n"
     ]
    }
   ],
   "source": [
    "print(\"O desvio padrão é\",round(des,2),\"erros\")"
   ]
  },
  {
   "cell_type": "code",
   "execution_count": 214,
   "id": "2674c714",
   "metadata": {},
   "outputs": [
    {
     "data": {
      "text/plain": [
       "<AxesSubplot:ylabel='Frequencia'>"
      ]
     },
     "execution_count": 214,
     "metadata": {},
     "output_type": "execute_result"
    },
    {
     "data": {
      "image/png": "[encoded data removed]",
      "text/plain": [
       "<Figure size 432x288 with 1 Axes>"
      ]
     },
     "metadata": {},
     "output_type": "display_data"
    }
   ],
   "source": [
    "#D\n",
    "dd.plot.pie(y = 'Frequencia')"
   ]
  },
  {
   "cell_type": "code",
   "execution_count": 215,
   "id": "8968420d",
   "metadata": {},
   "outputs": [
    {
     "name": "stdout",
     "output_type": "stream",
     "text": [
      "o numero total de erros esperados é 330 erros\n"
     ]
    }
   ],
   "source": [
    "#E\n",
    "print(\"o numero total de erros esperados é\", round(media*500), 'erros')"
   ]
  },
  {
   "cell_type": "markdown",
   "id": "bc8d2e1c",
   "metadata": {},
   "source": [
    "Questão 2:"
   ]
  },
  {
   "cell_type": "code",
   "execution_count": 216,
   "id": "8fd92c5e",
   "metadata": {},
   "outputs": [
    {
     "data": {
      "text/plain": [
       "0    2.59\n",
       "1    2.64\n",
       "2    2.62\n",
       "3    2.57\n",
       "4    2.55\n",
       "5    2.61\n",
       "6    2.50\n",
       "7    2.63\n",
       "8    2.64\n",
       "dtype: float64"
      ]
     },
     "execution_count": 216,
     "metadata": {},
     "output_type": "execute_result"
    }
   ],
   "source": [
    "\n",
    "ddd= pd.Series([2.59,2.64,2.62,2.57,2.55,2.61,2.50,2.63,2.64])\n",
    "ddd"
   ]
  },
  {
   "cell_type": "code",
   "execution_count": 217,
   "id": "97f20657",
   "metadata": {},
   "outputs": [
    {
     "name": "stdout",
     "output_type": "stream",
     "text": [
      "a media é: 2.594444444444444\n"
     ]
    }
   ],
   "source": [
    "print(\"a media é:\", ddd.mean())"
   ]
  },
  {
   "cell_type": "code",
   "execution_count": 218,
   "id": "b20d01ea",
   "metadata": {},
   "outputs": [
    {
     "name": "stdout",
     "output_type": "stream",
     "text": [
      "a mediana é: 2.61\n"
     ]
    }
   ],
   "source": [
    "print(\"a mediana é:\", ddd.median())"
   ]
  },
  {
   "cell_type": "code",
   "execution_count": 260,
   "id": "a9ace52d",
   "metadata": {},
   "outputs": [
    {
     "name": "stdout",
     "output_type": "stream",
     "text": [
      "o desvio padrão é: 0.044\n"
     ]
    }
   ],
   "source": [
    "print(\"o desvio padrão é:\",round(ddd.std(ddof=0),3))"
   ]
  },
  {
   "cell_type": "markdown",
   "id": "140cf2dc",
   "metadata": {},
   "source": [
    "Questão 3"
   ]
  },
  {
   "cell_type": "code",
   "execution_count": 220,
   "id": "4c64a08c",
   "metadata": {},
   "outputs": [
    {
     "data": {
      "text/html": [
       "<div>\n",
       "<style scoped>\n",
       "    .dataframe tbody tr th:only-of-type {\n",
       "        vertical-align: middle;\n",
       "    }\n",
       "\n",
       "    .dataframe tbody tr th {\n",
       "        vertical-align: top;\n",
       "    }\n",
       "\n",
       "    .dataframe thead th {\n",
       "        text-align: right;\n",
       "    }\n",
       "</style>\n",
       "<table border=\"1\" class=\"dataframe\">\n",
       "  <thead>\n",
       "    <tr style=\"text-align: right;\">\n",
       "      <th></th>\n",
       "      <th>Tamanho</th>\n",
       "    </tr>\n",
       "  </thead>\n",
       "  <tbody>\n",
       "    <tr>\n",
       "      <th>0</th>\n",
       "      <td>2</td>\n",
       "    </tr>\n",
       "    <tr>\n",
       "      <th>1</th>\n",
       "      <td>2</td>\n",
       "    </tr>\n",
       "    <tr>\n",
       "      <th>2</th>\n",
       "      <td>3</td>\n",
       "    </tr>\n",
       "    <tr>\n",
       "      <th>3</th>\n",
       "      <td>10</td>\n",
       "    </tr>\n",
       "    <tr>\n",
       "      <th>4</th>\n",
       "      <td>13</td>\n",
       "    </tr>\n",
       "    <tr>\n",
       "      <th>5</th>\n",
       "      <td>14</td>\n",
       "    </tr>\n",
       "    <tr>\n",
       "      <th>6</th>\n",
       "      <td>15</td>\n",
       "    </tr>\n",
       "    <tr>\n",
       "      <th>7</th>\n",
       "      <td>15</td>\n",
       "    </tr>\n",
       "    <tr>\n",
       "      <th>8</th>\n",
       "      <td>16</td>\n",
       "    </tr>\n",
       "    <tr>\n",
       "      <th>9</th>\n",
       "      <td>16</td>\n",
       "    </tr>\n",
       "    <tr>\n",
       "      <th>10</th>\n",
       "      <td>18</td>\n",
       "    </tr>\n",
       "    <tr>\n",
       "      <th>11</th>\n",
       "      <td>18</td>\n",
       "    </tr>\n",
       "    <tr>\n",
       "      <th>12</th>\n",
       "      <td>20</td>\n",
       "    </tr>\n",
       "    <tr>\n",
       "      <th>13</th>\n",
       "      <td>21</td>\n",
       "    </tr>\n",
       "    <tr>\n",
       "      <th>14</th>\n",
       "      <td>22</td>\n",
       "    </tr>\n",
       "    <tr>\n",
       "      <th>15</th>\n",
       "      <td>22</td>\n",
       "    </tr>\n",
       "    <tr>\n",
       "      <th>16</th>\n",
       "      <td>23</td>\n",
       "    </tr>\n",
       "    <tr>\n",
       "      <th>17</th>\n",
       "      <td>24</td>\n",
       "    </tr>\n",
       "    <tr>\n",
       "      <th>18</th>\n",
       "      <td>25</td>\n",
       "    </tr>\n",
       "    <tr>\n",
       "      <th>19</th>\n",
       "      <td>25</td>\n",
       "    </tr>\n",
       "    <tr>\n",
       "      <th>20</th>\n",
       "      <td>26</td>\n",
       "    </tr>\n",
       "    <tr>\n",
       "      <th>21</th>\n",
       "      <td>27</td>\n",
       "    </tr>\n",
       "    <tr>\n",
       "      <th>22</th>\n",
       "      <td>29</td>\n",
       "    </tr>\n",
       "    <tr>\n",
       "      <th>23</th>\n",
       "      <td>29</td>\n",
       "    </tr>\n",
       "    <tr>\n",
       "      <th>24</th>\n",
       "      <td>30</td>\n",
       "    </tr>\n",
       "    <tr>\n",
       "      <th>25</th>\n",
       "      <td>32</td>\n",
       "    </tr>\n",
       "    <tr>\n",
       "      <th>26</th>\n",
       "      <td>36</td>\n",
       "    </tr>\n",
       "    <tr>\n",
       "      <th>27</th>\n",
       "      <td>42</td>\n",
       "    </tr>\n",
       "    <tr>\n",
       "      <th>28</th>\n",
       "      <td>44</td>\n",
       "    </tr>\n",
       "    <tr>\n",
       "      <th>29</th>\n",
       "      <td>45</td>\n",
       "    </tr>\n",
       "    <tr>\n",
       "      <th>30</th>\n",
       "      <td>45</td>\n",
       "    </tr>\n",
       "    <tr>\n",
       "      <th>31</th>\n",
       "      <td>46</td>\n",
       "    </tr>\n",
       "    <tr>\n",
       "      <th>32</th>\n",
       "      <td>48</td>\n",
       "    </tr>\n",
       "    <tr>\n",
       "      <th>33</th>\n",
       "      <td>52</td>\n",
       "    </tr>\n",
       "    <tr>\n",
       "      <th>34</th>\n",
       "      <td>58</td>\n",
       "    </tr>\n",
       "    <tr>\n",
       "      <th>35</th>\n",
       "      <td>59</td>\n",
       "    </tr>\n",
       "    <tr>\n",
       "      <th>36</th>\n",
       "      <td>61</td>\n",
       "    </tr>\n",
       "    <tr>\n",
       "      <th>37</th>\n",
       "      <td>61</td>\n",
       "    </tr>\n",
       "    <tr>\n",
       "      <th>38</th>\n",
       "      <td>61</td>\n",
       "    </tr>\n",
       "    <tr>\n",
       "      <th>39</th>\n",
       "      <td>65</td>\n",
       "    </tr>\n",
       "    <tr>\n",
       "      <th>40</th>\n",
       "      <td>66</td>\n",
       "    </tr>\n",
       "    <tr>\n",
       "      <th>41</th>\n",
       "      <td>66</td>\n",
       "    </tr>\n",
       "    <tr>\n",
       "      <th>42</th>\n",
       "      <td>68</td>\n",
       "    </tr>\n",
       "    <tr>\n",
       "      <th>43</th>\n",
       "      <td>75</td>\n",
       "    </tr>\n",
       "    <tr>\n",
       "      <th>44</th>\n",
       "      <td>78</td>\n",
       "    </tr>\n",
       "    <tr>\n",
       "      <th>45</th>\n",
       "      <td>80</td>\n",
       "    </tr>\n",
       "    <tr>\n",
       "      <th>46</th>\n",
       "      <td>89</td>\n",
       "    </tr>\n",
       "    <tr>\n",
       "      <th>47</th>\n",
       "      <td>90</td>\n",
       "    </tr>\n",
       "    <tr>\n",
       "      <th>48</th>\n",
       "      <td>92</td>\n",
       "    </tr>\n",
       "    <tr>\n",
       "      <th>49</th>\n",
       "      <td>97</td>\n",
       "    </tr>\n",
       "  </tbody>\n",
       "</table>\n",
       "</div>"
      ],
      "text/plain": [
       "    Tamanho\n",
       "0         2\n",
       "1         2\n",
       "2         3\n",
       "3        10\n",
       "4        13\n",
       "5        14\n",
       "6        15\n",
       "7        15\n",
       "8        16\n",
       "9        16\n",
       "10       18\n",
       "11       18\n",
       "12       20\n",
       "13       21\n",
       "14       22\n",
       "15       22\n",
       "16       23\n",
       "17       24\n",
       "18       25\n",
       "19       25\n",
       "20       26\n",
       "21       27\n",
       "22       29\n",
       "23       29\n",
       "24       30\n",
       "25       32\n",
       "26       36\n",
       "27       42\n",
       "28       44\n",
       "29       45\n",
       "30       45\n",
       "31       46\n",
       "32       48\n",
       "33       52\n",
       "34       58\n",
       "35       59\n",
       "36       61\n",
       "37       61\n",
       "38       61\n",
       "39       65\n",
       "40       66\n",
       "41       66\n",
       "42       68\n",
       "43       75\n",
       "44       78\n",
       "45       80\n",
       "46       89\n",
       "47       90\n",
       "48       92\n",
       "49       97"
      ]
     },
     "execution_count": 220,
     "metadata": {},
     "output_type": "execute_result"
    }
   ],
   "source": [
    "\n",
    "dados = pd.DataFrame({\"Tamanho\":[2, 2, 3, 10, 13, 14, 15, 15, 16, 16, 18, 18, 20, 21, 22, 22, 23, 24, 25, 25, 26, 27, 29, 29, 30, 32, 36, 42, 44, 45, 45, 46, 48, 52, 58, 59, 61, 61, 61, 65, 66, 66, 68, 75, 78, 80, 89, 90, 92, 97]})\n",
    "dados"
   ]
  },
  {
   "cell_type": "code",
   "execution_count": 221,
   "id": "a74ee15e",
   "metadata": {},
   "outputs": [],
   "source": [
    "def dist_frequencia_classes(x, nc='auto'):\n",
    "    fa,classes= np.histogram(x, bins=nc) \n",
    "    fa = fa.astype(int)\n",
    "    \n",
    "  \n",
    "    classe_str = []\n",
    "    for i in range(len(classes)):\n",
    "        if i<=len(classes)-2:\n",
    "            classe_str.append('{:2.2f} |-- {:2.2f}' .format(classes[i],classes[i+1]))\n",
    "        else:\n",
    "            break        \n",
    "   \n",
    "    return pd.DataFrame({'Casas por quarteirão':classe_str, \n",
    "                         'fi': fa,\n",
    "                \n",
    "                        }) "
   ]
  },
  {
   "cell_type": "code",
   "execution_count": 222,
   "id": "0fdb1516",
   "metadata": {},
   "outputs": [
    {
     "data": {
      "text/html": [
       "<div>\n",
       "<style scoped>\n",
       "    .dataframe tbody tr th:only-of-type {\n",
       "        vertical-align: middle;\n",
       "    }\n",
       "\n",
       "    .dataframe tbody tr th {\n",
       "        vertical-align: top;\n",
       "    }\n",
       "\n",
       "    .dataframe thead th {\n",
       "        text-align: right;\n",
       "    }\n",
       "</style>\n",
       "<table border=\"1\" class=\"dataframe\">\n",
       "  <thead>\n",
       "    <tr style=\"text-align: right;\">\n",
       "      <th></th>\n",
       "      <th>Casas por quarteirão</th>\n",
       "      <th>fi</th>\n",
       "    </tr>\n",
       "  </thead>\n",
       "  <tbody>\n",
       "    <tr>\n",
       "      <th>0</th>\n",
       "      <td>2.00 |-- 21.00</td>\n",
       "      <td>13</td>\n",
       "    </tr>\n",
       "    <tr>\n",
       "      <th>1</th>\n",
       "      <td>21.00 |-- 40.00</td>\n",
       "      <td>14</td>\n",
       "    </tr>\n",
       "    <tr>\n",
       "      <th>2</th>\n",
       "      <td>40.00 |-- 59.00</td>\n",
       "      <td>8</td>\n",
       "    </tr>\n",
       "    <tr>\n",
       "      <th>3</th>\n",
       "      <td>59.00 |-- 78.00</td>\n",
       "      <td>9</td>\n",
       "    </tr>\n",
       "    <tr>\n",
       "      <th>4</th>\n",
       "      <td>78.00 |-- 97.00</td>\n",
       "      <td>6</td>\n",
       "    </tr>\n",
       "  </tbody>\n",
       "</table>\n",
       "</div>"
      ],
      "text/plain": [
       "  Casas por quarteirão  fi\n",
       "0       2.00 |-- 21.00  13\n",
       "1      21.00 |-- 40.00  14\n",
       "2      40.00 |-- 59.00   8\n",
       "3      59.00 |-- 78.00   9\n",
       "4      78.00 |-- 97.00   6"
      ]
     },
     "execution_count": 222,
     "metadata": {},
     "output_type": "execute_result"
    }
   ],
   "source": [
    "dad = (dist_frequencia_classes(dados, nc=5))\n",
    "dad"
   ]
  },
  {
   "cell_type": "code",
   "execution_count": 223,
   "id": "bcc78ff1",
   "metadata": {},
   "outputs": [
    {
     "data": {
      "text/plain": [
       "array([[<AxesSubplot:title={'center':'fi'}>]], dtype=object)"
      ]
     },
     "execution_count": 223,
     "metadata": {},
     "output_type": "execute_result"
    },
    {
     "data": {
      "image/png": "[encoded data removed]",
      "text/plain": [
       "<Figure size 432x288 with 1 Axes>"
      ]
     },
     "metadata": {
      "needs_background": "light"
     },
     "output_type": "display_data"
    }
   ],
   "source": [
    "dad.hist()"
   ]
  },
  {
   "cell_type": "code",
   "execution_count": 232,
   "id": "21d5d9d5",
   "metadata": {},
   "outputs": [
    {
     "data": {
      "text/plain": [
       "Tamanho    40.42\n",
       "dtype: float64"
      ]
     },
     "execution_count": 232,
     "metadata": {},
     "output_type": "execute_result"
    }
   ],
   "source": [
    "dados.mean()"
   ]
  },
  {
   "cell_type": "code",
   "execution_count": 235,
   "id": "4102b65a",
   "metadata": {},
   "outputs": [
    {
     "data": {
      "text/plain": [
       "Tamanho    666.4036\n",
       "dtype: float64"
      ]
     },
     "execution_count": 235,
     "metadata": {},
     "output_type": "execute_result"
    }
   ],
   "source": [
    "dados.var(ddof=0)"
   ]
  },
  {
   "cell_type": "markdown",
   "id": "3170371b",
   "metadata": {},
   "source": [
    "4)\n",
    "A) Quando o numero da variavel faz a media tender para mais do que para menos, por depender de valores individuais. \n"
   ]
  },
  {
   "cell_type": "code",
   "execution_count": 228,
   "id": "7d82827b",
   "metadata": {},
   "outputs": [],
   "source": [
    "#B\n",
    "ba = pd.DataFrame([4,8,12])"
   ]
  },
  {
   "cell_type": "code",
   "execution_count": 229,
   "id": "a46f9eb0",
   "metadata": {},
   "outputs": [
    {
     "data": {
      "text/plain": [
       "0    8.0\n",
       "dtype: float64"
      ]
     },
     "execution_count": 229,
     "metadata": {},
     "output_type": "execute_result"
    }
   ],
   "source": [
    "ba.median()"
   ]
  },
  {
   "cell_type": "code",
   "execution_count": 230,
   "id": "1bb1c7e6",
   "metadata": {},
   "outputs": [
    {
     "data": {
      "text/plain": [
       "0    8.0\n",
       "dtype: float64"
      ]
     },
     "execution_count": 230,
     "metadata": {},
     "output_type": "execute_result"
    }
   ],
   "source": [
    "ba.mean()"
   ]
  },
  {
   "cell_type": "code",
   "execution_count": 231,
   "id": "8bce6b8f",
   "metadata": {},
   "outputs": [
    {
     "data": {
      "text/plain": [
       "array([[<AxesSubplot:title={'center':'0'}>]], dtype=object)"
      ]
     },
     "execution_count": 231,
     "metadata": {},
     "output_type": "execute_result"
    },
    {
     "data": {
      "image/png": "[encoded data removed]",
      "text/plain": [
       "<Figure size 432x288 with 1 Axes>"
      ]
     },
     "metadata": {
      "needs_background": "light"
     },
     "output_type": "display_data"
    }
   ],
   "source": [
    "ba.hist()"
   ]
  },
  {
   "cell_type": "markdown",
   "id": "b1dd39b7",
   "metadata": {},
   "source": [
    "5) Depende de caso a caso, a media pode ser uma boa medida de posição quando os valores nao serem tao descrepantes, ai se usa a mediana, o contrario ocorre para mediana, se as variaveis individuais nao serem tao diferentes."
   ]
  },
  {
   "cell_type": "code",
   "execution_count": 238,
   "id": "87359893",
   "metadata": {},
   "outputs": [
    {
     "data": {
      "text/html": [
       "<div>\n",
       "<style scoped>\n",
       "    .dataframe tbody tr th:only-of-type {\n",
       "        vertical-align: middle;\n",
       "    }\n",
       "\n",
       "    .dataframe tbody tr th {\n",
       "        vertical-align: top;\n",
       "    }\n",
       "\n",
       "    .dataframe thead th {\n",
       "        text-align: right;\n",
       "    }\n",
       "</style>\n",
       "<table border=\"1\" class=\"dataframe\">\n",
       "  <thead>\n",
       "    <tr style=\"text-align: right;\">\n",
       "      <th></th>\n",
       "      <th>Numero de filhos</th>\n",
       "      <th>Frequencia de familias</th>\n",
       "    </tr>\n",
       "  </thead>\n",
       "  <tbody>\n",
       "    <tr>\n",
       "      <th>0</th>\n",
       "      <td>0</td>\n",
       "      <td>17</td>\n",
       "    </tr>\n",
       "    <tr>\n",
       "      <th>1</th>\n",
       "      <td>1</td>\n",
       "      <td>20</td>\n",
       "    </tr>\n",
       "    <tr>\n",
       "      <th>2</th>\n",
       "      <td>2</td>\n",
       "      <td>28</td>\n",
       "    </tr>\n",
       "    <tr>\n",
       "      <th>3</th>\n",
       "      <td>3</td>\n",
       "      <td>19</td>\n",
       "    </tr>\n",
       "    <tr>\n",
       "      <th>4</th>\n",
       "      <td>4</td>\n",
       "      <td>7</td>\n",
       "    </tr>\n",
       "    <tr>\n",
       "      <th>5</th>\n",
       "      <td>5</td>\n",
       "      <td>4</td>\n",
       "    </tr>\n",
       "    <tr>\n",
       "      <th>6</th>\n",
       "      <td>5</td>\n",
       "      <td>5</td>\n",
       "    </tr>\n",
       "  </tbody>\n",
       "</table>\n",
       "</div>"
      ],
      "text/plain": [
       "   Numero de filhos  Frequencia de familias\n",
       "0                 0                      17\n",
       "1                 1                      20\n",
       "2                 2                      28\n",
       "3                 3                      19\n",
       "4                 4                       7\n",
       "5                 5                       4\n",
       "6                 5                       5"
      ]
     },
     "execution_count": 238,
     "metadata": {},
     "output_type": "execute_result"
    }
   ],
   "source": [
    "#6\n",
    "filhos = pd.DataFrame({ \n",
    "        'Numero de filhos': [0,1,2,3,4,5,+5],\n",
    "        'Frequencia de familias': [17,20,28,19,\n",
    "                                7,4,5]\n",
    "        \n",
    "    })\n",
    "filhos"
   ]
  },
  {
   "cell_type": "code",
   "execution_count": 245,
   "id": "5a488be6",
   "metadata": {},
   "outputs": [
    {
     "data": {
      "text/plain": [
       "100"
      ]
     },
     "execution_count": 245,
     "metadata": {},
     "output_type": "execute_result"
    }
   ],
   "source": [
    "#A \n",
    "filhos['Frequencia de familias'].sum() "
   ]
  },
  {
   "cell_type": "code",
   "execution_count": 250,
   "id": "18f7f072",
   "metadata": {},
   "outputs": [
    {
     "data": {
      "text/plain": [
       "50.0"
      ]
     },
     "execution_count": 250,
     "metadata": {},
     "output_type": "execute_result"
    }
   ],
   "source": [
    "filhos['Frequencia de familias'].sum()/2"
   ]
  },
  {
   "cell_type": "code",
   "execution_count": 252,
   "id": "90138fad",
   "metadata": {},
   "outputs": [
    {
     "name": "stdout",
     "output_type": "stream",
     "text": [
      "o valor 50 esta na posição de 2 filhos, logo 2 é a mediana\n"
     ]
    }
   ],
   "source": [
    "\n",
    "print(\"o valor 50 esta na posição de 2 filhos, logo 2 é a mediana\")"
   ]
  },
  {
   "cell_type": "code",
   "execution_count": 257,
   "id": "867c2759",
   "metadata": {},
   "outputs": [
    {
     "data": {
      "text/plain": [
       "0     4\n",
       "1     5\n",
       "2     7\n",
       "3    17\n",
       "4    19\n",
       "5    20\n",
       "6    28\n",
       "dtype: int64"
      ]
     },
     "execution_count": 257,
     "metadata": {},
     "output_type": "execute_result"
    }
   ],
   "source": [
    "#B \n",
    "filhos['Frequencia de familias'].mode()"
   ]
  },
  {
   "cell_type": "code",
   "execution_count": 259,
   "id": "970bd203",
   "metadata": {},
   "outputs": [
    {
     "name": "stdout",
     "output_type": "stream",
     "text": [
      "o valor que mais se repete é 2, logo a moda é 2\n"
     ]
    }
   ],
   "source": [
    "print(\"o valor que mais se repete é 2, logo a moda é 2\")"
   ]
  },
  {
   "cell_type": "markdown",
   "id": "83003029",
   "metadata": {},
   "source": [
    "C)È impossivel pois nao sabemos quais sao os valores individuais de +5 filhos."
   ]
  }
 ],
 "metadata": {
  "kernelspec": {
   "display_name": "Python 3",
   "language": "python",
   "name": "python3"
  },
  "language_info": {
   "codemirror_mode": {
    "name": "ipython",
    "version": 3
   },
   "file_extension": ".py",
   "mimetype": "text/x-python",
   "name": "python",
   "nbconvert_exporter": "python",
   "pygments_lexer": "ipython3",
   "version": "3.8.8"
  }
 },
 "nbformat": 4,
 "nbformat_minor": 5
}
