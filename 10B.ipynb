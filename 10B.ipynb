{
 "cells": [
  {
   "cell_type": "code",
   "execution_count": 1,
   "id": "9fbf7ee6",
   "metadata": {},
   "outputs": [],
   "source": [
    "import pandas as pd\n",
    "import numpy as np\n",
    "import matplotlib.pyplot as plt"
   ]
  },
  {
   "cell_type": "code",
   "execution_count": 44,
   "id": "7db1ebb9",
   "metadata": {},
   "outputs": [
    {
     "data": {
      "text/html": [
       "<div>\n",
       "<style scoped>\n",
       "    .dataframe tbody tr th:only-of-type {\n",
       "        vertical-align: middle;\n",
       "    }\n",
       "\n",
       "    .dataframe tbody tr th {\n",
       "        vertical-align: top;\n",
       "    }\n",
       "\n",
       "    .dataframe thead th {\n",
       "        text-align: right;\n",
       "    }\n",
       "</style>\n",
       "<table border=\"1\" class=\"dataframe\">\n",
       "  <thead>\n",
       "    <tr style=\"text-align: right;\">\n",
       "      <th></th>\n",
       "      <th>Nome</th>\n",
       "      <th>Idade</th>\n",
       "      <th>Salario</th>\n",
       "    </tr>\n",
       "  </thead>\n",
       "  <tbody>\n",
       "    <tr>\n",
       "      <th>0</th>\n",
       "      <td>Joao da silva</td>\n",
       "      <td>36</td>\n",
       "      <td>6300</td>\n",
       "    </tr>\n",
       "    <tr>\n",
       "      <th>1</th>\n",
       "      <td>Pedro fernandes</td>\n",
       "      <td>51</td>\n",
       "      <td>5700</td>\n",
       "    </tr>\n",
       "    <tr>\n",
       "      <th>2</th>\n",
       "      <td>Maria freitas</td>\n",
       "      <td>26</td>\n",
       "      <td>4500</td>\n",
       "    </tr>\n",
       "    <tr>\n",
       "      <th>3</th>\n",
       "      <td>Paula gonçalves</td>\n",
       "      <td>25</td>\n",
       "      <td>3800</td>\n",
       "    </tr>\n",
       "    <tr>\n",
       "      <th>4</th>\n",
       "      <td>ana freitas</td>\n",
       "      <td>29</td>\n",
       "      <td>3200</td>\n",
       "    </tr>\n",
       "    <tr>\n",
       "      <th>5</th>\n",
       "      <td>luiz costa</td>\n",
       "      <td>53</td>\n",
       "      <td>7300</td>\n",
       "    </tr>\n",
       "    <tr>\n",
       "      <th>6</th>\n",
       "      <td>andre souza</td>\n",
       "      <td>42</td>\n",
       "      <td>7100</td>\n",
       "    </tr>\n",
       "    <tr>\n",
       "      <th>7</th>\n",
       "      <td>patricia silva</td>\n",
       "      <td>38</td>\n",
       "      <td>5600</td>\n",
       "    </tr>\n",
       "    <tr>\n",
       "      <th>8</th>\n",
       "      <td>regina lima</td>\n",
       "      <td>35</td>\n",
       "      <td>6400</td>\n",
       "    </tr>\n",
       "    <tr>\n",
       "      <th>9</th>\n",
       "      <td>alfredo souza</td>\n",
       "      <td>45</td>\n",
       "      <td>7000</td>\n",
       "    </tr>\n",
       "    <tr>\n",
       "      <th>10</th>\n",
       "      <td>margarete cunha</td>\n",
       "      <td>26</td>\n",
       "      <td>3700</td>\n",
       "    </tr>\n",
       "    <tr>\n",
       "      <th>11</th>\n",
       "      <td>pedro barbosa</td>\n",
       "      <td>37</td>\n",
       "      <td>6500</td>\n",
       "    </tr>\n",
       "    <tr>\n",
       "      <th>12</th>\n",
       "      <td>ricardo alves</td>\n",
       "      <td>24</td>\n",
       "      <td>4000</td>\n",
       "    </tr>\n",
       "    <tr>\n",
       "      <th>13</th>\n",
       "      <td>marcio rezende</td>\n",
       "      <td>31</td>\n",
       "      <td>5100</td>\n",
       "    </tr>\n",
       "    <tr>\n",
       "      <th>14</th>\n",
       "      <td>ana carolina chaves</td>\n",
       "      <td>29</td>\n",
       "      <td>4500</td>\n",
       "    </tr>\n",
       "  </tbody>\n",
       "</table>\n",
       "</div>"
      ],
      "text/plain": [
       "                   Nome  Idade  Salario\n",
       "0        Joao da silva      36     6300\n",
       "1       Pedro fernandes     51     5700\n",
       "2         Maria freitas     26     4500\n",
       "3       Paula gonçalves     25     3800\n",
       "4           ana freitas     29     3200\n",
       "5            luiz costa     53     7300\n",
       "6           andre souza     42     7100\n",
       "7        patricia silva     38     5600\n",
       "8           regina lima     35     6400\n",
       "9         alfredo souza     45     7000\n",
       "10      margarete cunha     26     3700\n",
       "11        pedro barbosa     37     6500\n",
       "12        ricardo alves     24     4000\n",
       "13       marcio rezende     31     5100\n",
       "14  ana carolina chaves     29     4500"
      ]
     },
     "execution_count": 44,
     "metadata": {},
     "output_type": "execute_result"
    }
   ],
   "source": [
    "df = pd.DataFrame({'Nome': ['Joao da silva ', 'Pedro fernandes' , 'Maria freitas','Paula gonçalves','ana freitas','luiz costa','andre souza','patricia silva', 'regina lima','alfredo souza','margarete cunha','pedro barbosa','ricardo alves','marcio rezende','ana carolina chaves'],\n",
    "                   'Idade': [36,51,26,25,29,53,42,38,35,45,26,37,24,31,29],\n",
    "                 'Salario': [6300,5700,4500,3800,3200,7300,7100,5600,6400,7000,3700,6500,4000,5100,4500]}\n",
    "                 )\n",
    "df"
   ]
  },
  {
   "cell_type": "markdown",
   "id": "4b1e428b",
   "metadata": {},
   "source": [
    "Fiz todas as duas como explicado em aula e notebook! ps: usei sua função para montar a tabela bem feitinha."
   ]
  },
  {
   "cell_type": "markdown",
   "id": "e5d3a790",
   "metadata": {},
   "source": [
    "Resposta 1:"
   ]
  },
  {
   "cell_type": "code",
   "execution_count": 14,
   "id": "65bb1eb9",
   "metadata": {},
   "outputs": [
    {
     "data": {
      "text/plain": [
       "array([36, 51, 26, 25, 29, 53, 42, 38, 35, 45, 37, 24, 31], dtype=int64)"
      ]
     },
     "execution_count": 14,
     "metadata": {},
     "output_type": "execute_result"
    }
   ],
   "source": [
    "df[\"Idade\"].unique()"
   ]
  },
  {
   "cell_type": "code",
   "execution_count": 15,
   "id": "f8dea248",
   "metadata": {},
   "outputs": [
    {
     "data": {
      "text/plain": [
       "26    2\n",
       "29    2\n",
       "35    1\n",
       "36    1\n",
       "37    1\n",
       "38    1\n",
       "42    1\n",
       "45    1\n",
       "51    1\n",
       "53    1\n",
       "24    1\n",
       "25    1\n",
       "31    1\n",
       "Name: Idade, dtype: int64"
      ]
     },
     "execution_count": 15,
     "metadata": {},
     "output_type": "execute_result"
    }
   ],
   "source": [
    "df[\"Idade\"].value_counts()"
   ]
  },
  {
   "cell_type": "code",
   "execution_count": 23,
   "id": "d2edf870",
   "metadata": {},
   "outputs": [],
   "source": [
    "dados = df['Idade']"
   ]
  },
  {
   "cell_type": "code",
   "execution_count": 49,
   "id": "85819c3f",
   "metadata": {},
   "outputs": [],
   "source": [
    "hist, bin_edges = np.histogram(dados, bins='auto')"
   ]
  },
  {
   "cell_type": "code",
   "execution_count": 29,
   "id": "bd1307b5",
   "metadata": {},
   "outputs": [
    {
     "data": {
      "text/plain": [
       "array([6, 2, 3, 2, 2], dtype=int64)"
      ]
     },
     "execution_count": 29,
     "metadata": {},
     "output_type": "execute_result"
    }
   ],
   "source": [
    "hist"
   ]
  },
  {
   "cell_type": "code",
   "execution_count": 30,
   "id": "3a5d3226",
   "metadata": {},
   "outputs": [
    {
     "data": {
      "text/plain": [
       "array([24. , 29.8, 35.6, 41.4, 47.2, 53. ])"
      ]
     },
     "execution_count": 30,
     "metadata": {},
     "output_type": "execute_result"
    }
   ],
   "source": [
    "bin_edges"
   ]
  },
  {
   "cell_type": "code",
   "execution_count": 31,
   "id": "a1a11886",
   "metadata": {},
   "outputs": [
    {
     "data": {
      "text/plain": [
       "5.800000000000001"
      ]
     },
     "execution_count": 31,
     "metadata": {},
     "output_type": "execute_result"
    }
   ],
   "source": [
    "h = np.diff(bin_edges)\n",
    "h[0]"
   ]
  },
  {
   "cell_type": "code",
   "execution_count": 32,
   "id": "a2ca777c",
   "metadata": {},
   "outputs": [
    {
     "data": {
      "text/plain": [
       "array([6, 2, 3, 2, 2], dtype=int64)"
      ]
     },
     "execution_count": 32,
     "metadata": {},
     "output_type": "execute_result"
    }
   ],
   "source": [
    "fi, classes = np.histogram(dados,bins=5)\n",
    "fi"
   ]
  },
  {
   "cell_type": "code",
   "execution_count": 33,
   "id": "6aabe082",
   "metadata": {},
   "outputs": [
    {
     "data": {
      "text/plain": [
       "array([0.4       , 0.13333333, 0.2       , 0.13333333, 0.13333333])"
      ]
     },
     "execution_count": 33,
     "metadata": {},
     "output_type": "execute_result"
    }
   ],
   "source": [
    "fr = fi/fi.sum()\n",
    "fr"
   ]
  },
  {
   "cell_type": "code",
   "execution_count": 35,
   "id": "cbd0a947",
   "metadata": {},
   "outputs": [
    {
     "data": {
      "text/plain": [
       "array([0.06896552, 0.02298851, 0.03448276, 0.02298851, 0.02298851])"
      ]
     },
     "execution_count": 35,
     "metadata": {},
     "output_type": "execute_result"
    }
   ],
   "source": [
    "frnorm = fi/(fi.sum() * np.diff(classes))\n",
    "frnorm"
   ]
  },
  {
   "cell_type": "code",
   "execution_count": 39,
   "id": "5eff9837",
   "metadata": {},
   "outputs": [
    {
     "data": {
      "text/plain": [
       "array([ 6,  8, 11, 13, 15], dtype=int64)"
      ]
     },
     "execution_count": 39,
     "metadata": {},
     "output_type": "execute_result"
    }
   ],
   "source": [
    "F = fi.cumsum()\n",
    "F"
   ]
  },
  {
   "cell_type": "code",
   "execution_count": 47,
   "id": "fd764156",
   "metadata": {},
   "outputs": [],
   "source": [
    "def dist_frequencia_classes(x, nc='auto'):\n",
    "    fa,classes= np.histogram(x, bins=nc) \n",
    "    fa = fa.astype(int)\n",
    "    fr = np.around(fa/fa.sum()*100,decimals=2) \n",
    "    fc = np.cumsum(fa).astype(int) \n",
    "  \n",
    "    classe_str = []\n",
    "    for i in range(len(classes)):\n",
    "        if i<=len(classes)-2:\n",
    "            classe_str.append('{:2.2f} |-- {:2.2f}' .format(classes[i],classes[i+1]))\n",
    "        else:\n",
    "            break        \n",
    "   \n",
    "    return pd.DataFrame({'Idade':classe_str, \n",
    "                         'fi': fa,\n",
    "                         'fr': fr,\n",
    "                         'Fc': fc\n",
    "                        }).set_index('Idade') \n"
   ]
  },
  {
   "cell_type": "code",
   "execution_count": 48,
   "id": "d2913733",
   "metadata": {},
   "outputs": [
    {
     "data": {
      "text/html": [
       "<div>\n",
       "<style scoped>\n",
       "    .dataframe tbody tr th:only-of-type {\n",
       "        vertical-align: middle;\n",
       "    }\n",
       "\n",
       "    .dataframe tbody tr th {\n",
       "        vertical-align: top;\n",
       "    }\n",
       "\n",
       "    .dataframe thead th {\n",
       "        text-align: right;\n",
       "    }\n",
       "</style>\n",
       "<table border=\"1\" class=\"dataframe\">\n",
       "  <thead>\n",
       "    <tr style=\"text-align: right;\">\n",
       "      <th></th>\n",
       "      <th>fi</th>\n",
       "      <th>fr</th>\n",
       "      <th>Fc</th>\n",
       "    </tr>\n",
       "    <tr>\n",
       "      <th>Idade</th>\n",
       "      <th></th>\n",
       "      <th></th>\n",
       "      <th></th>\n",
       "    </tr>\n",
       "  </thead>\n",
       "  <tbody>\n",
       "    <tr>\n",
       "      <th>24.00 |-- 29.80</th>\n",
       "      <td>6</td>\n",
       "      <td>40.00</td>\n",
       "      <td>6</td>\n",
       "    </tr>\n",
       "    <tr>\n",
       "      <th>29.80 |-- 35.60</th>\n",
       "      <td>2</td>\n",
       "      <td>13.33</td>\n",
       "      <td>8</td>\n",
       "    </tr>\n",
       "    <tr>\n",
       "      <th>35.60 |-- 41.40</th>\n",
       "      <td>3</td>\n",
       "      <td>20.00</td>\n",
       "      <td>11</td>\n",
       "    </tr>\n",
       "    <tr>\n",
       "      <th>41.40 |-- 47.20</th>\n",
       "      <td>2</td>\n",
       "      <td>13.33</td>\n",
       "      <td>13</td>\n",
       "    </tr>\n",
       "    <tr>\n",
       "      <th>47.20 |-- 53.00</th>\n",
       "      <td>2</td>\n",
       "      <td>13.33</td>\n",
       "      <td>15</td>\n",
       "    </tr>\n",
       "  </tbody>\n",
       "</table>\n",
       "</div>"
      ],
      "text/plain": [
       "                 fi     fr  Fc\n",
       "Idade                         \n",
       "24.00 |-- 29.80   6  40.00   6\n",
       "29.80 |-- 35.60   2  13.33   8\n",
       "35.60 |-- 41.40   3  20.00  11\n",
       "41.40 |-- 47.20   2  13.33  13\n",
       "47.20 |-- 53.00   2  13.33  15"
      ]
     },
     "execution_count": 48,
     "metadata": {},
     "output_type": "execute_result"
    }
   ],
   "source": [
    "dist_frequencia_classes(dados, nc=5)"
   ]
  },
  {
   "cell_type": "markdown",
   "id": "250c4368",
   "metadata": {},
   "source": [
    "Resposta 2"
   ]
  },
  {
   "cell_type": "code",
   "execution_count": 50,
   "id": "a7177608",
   "metadata": {},
   "outputs": [],
   "source": [
    "dados = df['Salario']"
   ]
  },
  {
   "cell_type": "code",
   "execution_count": 51,
   "id": "fba901c3",
   "metadata": {},
   "outputs": [],
   "source": [
    "hist, bin_edges = np.histogram(dados)"
   ]
  },
  {
   "cell_type": "code",
   "execution_count": 52,
   "id": "678f6a45",
   "metadata": {},
   "outputs": [
    {
     "data": {
      "text/plain": [
       "array([1, 3, 0, 2, 1, 1, 1, 2, 1, 3], dtype=int64)"
      ]
     },
     "execution_count": 52,
     "metadata": {},
     "output_type": "execute_result"
    }
   ],
   "source": [
    "hist"
   ]
  },
  {
   "cell_type": "code",
   "execution_count": 53,
   "id": "ac430906",
   "metadata": {},
   "outputs": [
    {
     "data": {
      "text/plain": [
       "array([3200., 3610., 4020., 4430., 4840., 5250., 5660., 6070., 6480.,\n",
       "       6890., 7300.])"
      ]
     },
     "execution_count": 53,
     "metadata": {},
     "output_type": "execute_result"
    }
   ],
   "source": [
    "bin_edges"
   ]
  },
  {
   "cell_type": "code",
   "execution_count": 54,
   "id": "1272417e",
   "metadata": {},
   "outputs": [
    {
     "data": {
      "text/plain": [
       "410.0"
      ]
     },
     "execution_count": 54,
     "metadata": {},
     "output_type": "execute_result"
    }
   ],
   "source": [
    "h = np.diff(bin_edges)\n",
    "h[0]"
   ]
  },
  {
   "cell_type": "code",
   "execution_count": 55,
   "id": "affd3298",
   "metadata": {},
   "outputs": [
    {
     "data": {
      "text/plain": [
       "array([4, 2, 2, 3, 4], dtype=int64)"
      ]
     },
     "execution_count": 55,
     "metadata": {},
     "output_type": "execute_result"
    }
   ],
   "source": [
    "fi, classes = np.histogram(dados,bins=5)\n",
    "fi"
   ]
  },
  {
   "cell_type": "code",
   "execution_count": 56,
   "id": "9db1e985",
   "metadata": {},
   "outputs": [
    {
     "data": {
      "text/plain": [
       "array([0.26666667, 0.13333333, 0.13333333, 0.2       , 0.26666667])"
      ]
     },
     "execution_count": 56,
     "metadata": {},
     "output_type": "execute_result"
    }
   ],
   "source": [
    "fr = fi/fi.sum()\n",
    "fr"
   ]
  },
  {
   "cell_type": "code",
   "execution_count": 57,
   "id": "6f3be663",
   "metadata": {},
   "outputs": [
    {
     "data": {
      "text/plain": [
       "array([0.0003252, 0.0001626, 0.0001626, 0.0002439, 0.0003252])"
      ]
     },
     "execution_count": 57,
     "metadata": {},
     "output_type": "execute_result"
    }
   ],
   "source": [
    "frnorm = fi/(fi.sum() * np.diff(classes))\n",
    "frnorm"
   ]
  },
  {
   "cell_type": "code",
   "execution_count": 58,
   "id": "1b9f2b7b",
   "metadata": {},
   "outputs": [
    {
     "data": {
      "text/plain": [
       "array([0.26666667, 0.13333333, 0.13333333, 0.2       , 0.26666667])"
      ]
     },
     "execution_count": 58,
     "metadata": {},
     "output_type": "execute_result"
    }
   ],
   "source": [
    "frnorm*np.diff(classes)"
   ]
  },
  {
   "cell_type": "code",
   "execution_count": 59,
   "id": "3868f63d",
   "metadata": {},
   "outputs": [
    {
     "data": {
      "text/plain": [
       "array([ 4,  6,  8, 11, 15], dtype=int64)"
      ]
     },
     "execution_count": 59,
     "metadata": {},
     "output_type": "execute_result"
    }
   ],
   "source": [
    "F = fi.cumsum()\n",
    "F"
   ]
  },
  {
   "cell_type": "code",
   "execution_count": 62,
   "id": "6a1b24bb",
   "metadata": {},
   "outputs": [],
   "source": [
    "def dist_frequencia_classes(x, nc='auto'):\n",
    "    \n",
    "    fa,classes= np.histogram(x, bins=nc) \n",
    "    fa = fa.astype(int)\n",
    "    \n",
    "    fr = np.around(fa/fa.sum()*100,decimals=2) \n",
    "    fc = np.cumsum(fa).astype(int)  \n",
    "    classe_str = []\n",
    "    for i in range(len(classes)):\n",
    "        if i<=len(classes)-2:\n",
    "            classe_str.append('{:2.2f} |-- {:2.2f}' .format(classes[i],classes[i+1]))\n",
    "        else:\n",
    "            break        \n",
    "    return pd.DataFrame({'Salario':classe_str, \n",
    "                         'fi': fa,\n",
    "                         'fr': fr,\n",
    "                         'Fc': fc\n",
    "                        }).set_index('Salario') "
   ]
  },
  {
   "cell_type": "code",
   "execution_count": 63,
   "id": "1e58c625",
   "metadata": {},
   "outputs": [
    {
     "data": {
      "text/html": [
       "<div>\n",
       "<style scoped>\n",
       "    .dataframe tbody tr th:only-of-type {\n",
       "        vertical-align: middle;\n",
       "    }\n",
       "\n",
       "    .dataframe tbody tr th {\n",
       "        vertical-align: top;\n",
       "    }\n",
       "\n",
       "    .dataframe thead th {\n",
       "        text-align: right;\n",
       "    }\n",
       "</style>\n",
       "<table border=\"1\" class=\"dataframe\">\n",
       "  <thead>\n",
       "    <tr style=\"text-align: right;\">\n",
       "      <th></th>\n",
       "      <th>fi</th>\n",
       "      <th>fr</th>\n",
       "      <th>Fc</th>\n",
       "    </tr>\n",
       "    <tr>\n",
       "      <th>Salario</th>\n",
       "      <th></th>\n",
       "      <th></th>\n",
       "      <th></th>\n",
       "    </tr>\n",
       "  </thead>\n",
       "  <tbody>\n",
       "    <tr>\n",
       "      <th>3200.00 |-- 4020.00</th>\n",
       "      <td>4</td>\n",
       "      <td>26.67</td>\n",
       "      <td>4</td>\n",
       "    </tr>\n",
       "    <tr>\n",
       "      <th>4020.00 |-- 4840.00</th>\n",
       "      <td>2</td>\n",
       "      <td>13.33</td>\n",
       "      <td>6</td>\n",
       "    </tr>\n",
       "    <tr>\n",
       "      <th>4840.00 |-- 5660.00</th>\n",
       "      <td>2</td>\n",
       "      <td>13.33</td>\n",
       "      <td>8</td>\n",
       "    </tr>\n",
       "    <tr>\n",
       "      <th>5660.00 |-- 6480.00</th>\n",
       "      <td>3</td>\n",
       "      <td>20.00</td>\n",
       "      <td>11</td>\n",
       "    </tr>\n",
       "    <tr>\n",
       "      <th>6480.00 |-- 7300.00</th>\n",
       "      <td>4</td>\n",
       "      <td>26.67</td>\n",
       "      <td>15</td>\n",
       "    </tr>\n",
       "  </tbody>\n",
       "</table>\n",
       "</div>"
      ],
      "text/plain": [
       "                     fi     fr  Fc\n",
       "Salario                           \n",
       "3200.00 |-- 4020.00   4  26.67   4\n",
       "4020.00 |-- 4840.00   2  13.33   6\n",
       "4840.00 |-- 5660.00   2  13.33   8\n",
       "5660.00 |-- 6480.00   3  20.00  11\n",
       "6480.00 |-- 7300.00   4  26.67  15"
      ]
     },
     "execution_count": 63,
     "metadata": {},
     "output_type": "execute_result"
    }
   ],
   "source": [
    "dist_frequencia_classes(dados, nc=5)"
   ]
  },
  {
   "cell_type": "code",
   "execution_count": null,
   "id": "6330a211",
   "metadata": {},
   "outputs": [],
   "source": []
  }
 ],
 "metadata": {
  "kernelspec": {
   "display_name": "Python 3",
   "language": "python",
   "name": "python3"
  },
  "language_info": {
   "codemirror_mode": {
    "name": "ipython",
    "version": 3
   },
   "file_extension": ".py",
   "mimetype": "text/x-python",
   "name": "python",
   "nbconvert_exporter": "python",
   "pygments_lexer": "ipython3",
   "version": "3.8.8"
  }
 },
 "nbformat": 4,
 "nbformat_minor": 5
}
